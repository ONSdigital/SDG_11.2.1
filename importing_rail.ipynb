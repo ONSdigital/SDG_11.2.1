{
 "cells": [
  {
   "cell_type": "code",
   "execution_count": 2,
   "metadata": {},
   "outputs": [],
   "source": [
    "import pandas as pd\n",
    "\n",
    "station_code_df = pd.read_csv(\"/home/james/programming/SDG_11.2.1-1/data/stop_codes.csv\",\n",
    "                           usecols=[\"station_name\", \"station_code\"])"
   ]
  },
  {
   "cell_type": "code",
   "execution_count": 3,
   "metadata": {},
   "outputs": [
    {
     "data": {
      "text/html": [
       "<div>\n",
       "<style scoped>\n",
       "    .dataframe tbody tr th:only-of-type {\n",
       "        vertical-align: middle;\n",
       "    }\n",
       "\n",
       "    .dataframe tbody tr th {\n",
       "        vertical-align: top;\n",
       "    }\n",
       "\n",
       "    .dataframe thead th {\n",
       "        text-align: right;\n",
       "    }\n",
       "</style>\n",
       "<table border=\"1\" class=\"dataframe\">\n",
       "  <thead>\n",
       "    <tr style=\"text-align: right;\">\n",
       "      <th></th>\n",
       "      <th>station_name</th>\n",
       "      <th>station_code</th>\n",
       "    </tr>\n",
       "  </thead>\n",
       "  <tbody>\n",
       "    <tr>\n",
       "      <th>0</th>\n",
       "      <td>Abbey Wood</td>\n",
       "      <td>ABW</td>\n",
       "    </tr>\n",
       "    <tr>\n",
       "      <th>1</th>\n",
       "      <td>Aber</td>\n",
       "      <td>ABE</td>\n",
       "    </tr>\n",
       "    <tr>\n",
       "      <th>2</th>\n",
       "      <td>Abercynon</td>\n",
       "      <td>ACY</td>\n",
       "    </tr>\n",
       "    <tr>\n",
       "      <th>3</th>\n",
       "      <td>Aberdare</td>\n",
       "      <td>ABA</td>\n",
       "    </tr>\n",
       "    <tr>\n",
       "      <th>4</th>\n",
       "      <td>Aberdeen</td>\n",
       "      <td>ABD</td>\n",
       "    </tr>\n",
       "  </tbody>\n",
       "</table>\n",
       "</div>"
      ],
      "text/plain": [
       "  station_name station_code\n",
       "0   Abbey Wood          ABW\n",
       "1         Aber          ABE\n",
       "2    Abercynon          ACY\n",
       "3     Aberdare          ABA\n",
       "4     Aberdeen          ABD"
      ]
     },
     "execution_count": 3,
     "metadata": {},
     "output_type": "execute_result"
    }
   ],
   "source": [
    "station_code_df.head()"
   ]
  },
  {
   "cell_type": "code",
   "execution_count": 4,
   "metadata": {},
   "outputs": [],
   "source": [
    "station_locs_df = pd.read_json(\"https://raw.githubusercontent.com/jwestw/UK-Train-Station-Locations/master/uk-train-stations.json\")"
   ]
  },
  {
   "cell_type": "code",
   "execution_count": 5,
   "metadata": {},
   "outputs": [],
   "source": [
    "station_locs_df.rename(columns={\"3alpha\": \"station_code\"}, inplace=True)"
   ]
  },
  {
   "cell_type": "code",
   "execution_count": 6,
   "metadata": {},
   "outputs": [
    {
     "data": {
      "text/plain": [
       "2579"
      ]
     },
     "execution_count": 6,
     "metadata": {},
     "output_type": "execute_result"
    }
   ],
   "source": [
    "station_code_df.station_code.nunique()"
   ]
  },
  {
   "cell_type": "code",
   "execution_count": 7,
   "metadata": {},
   "outputs": [
    {
     "data": {
      "text/plain": [
       "2595"
      ]
     },
     "execution_count": 7,
     "metadata": {},
     "output_type": "execute_result"
    }
   ],
   "source": [
    "station_locs_df.station_code.nunique()"
   ]
  },
  {
   "cell_type": "code",
   "execution_count": 8,
   "metadata": {},
   "outputs": [
    {
     "data": {
      "text/plain": [
       "2595"
      ]
     },
     "execution_count": 8,
     "metadata": {},
     "output_type": "execute_result"
    }
   ],
   "source": [
    "len(set(station_locs_df.station_code))"
   ]
  },
  {
   "cell_type": "code",
   "execution_count": 9,
   "metadata": {},
   "outputs": [
    {
     "data": {
      "text/plain": [
       "2580"
      ]
     },
     "execution_count": 9,
     "metadata": {},
     "output_type": "execute_result"
    }
   ],
   "source": [
    "len(set(station_code_df.station_code))"
   ]
  },
  {
   "cell_type": "code",
   "execution_count": 10,
   "metadata": {},
   "outputs": [
    {
     "data": {
      "text/plain": [
       "34"
      ]
     },
     "execution_count": 10,
     "metadata": {},
     "output_type": "execute_result"
    }
   ],
   "source": [
    "in_locs_not_in_codes = set(station_locs_df.station_code) - set(station_code_df.station_code)\n",
    "len(in_locs_not_in_codes)\n",
    "\n",
    "# There are 34 different entries in the two datasets, not too bad"
   ]
  },
  {
   "cell_type": "code",
   "execution_count": 11,
   "metadata": {},
   "outputs": [
    {
     "data": {
      "text/plain": [
       "19"
      ]
     },
     "execution_count": 11,
     "metadata": {},
     "output_type": "execute_result"
    }
   ],
   "source": [
    "in_codes_not_in_locs = set(station_code_df.station_code) - set(station_locs_df.station_code)\n",
    "len(in_codes_not_in_locs)\n",
    "\n",
    "# There are 19 in Station Codes but not in the locations\n"
   ]
  },
  {
   "cell_type": "code",
   "execution_count": 12,
   "metadata": {},
   "outputs": [
    {
     "name": "stderr",
     "output_type": "stream",
     "text": [
      "/home/james/anaconda3/envs/SDG_11.2.1/lib/python3.8/site-packages/pandas/util/_decorators.py:311: SettingWithCopyWarning: \n",
      "A value is trying to be set on a copy of a slice from a DataFrame\n",
      "\n",
      "See the caveats in the documentation: https://pandas.pydata.org/pandas-docs/stable/user_guide/indexing.html#returning-a-view-versus-a-copy\n",
      "  return func(*args, **kwargs)\n"
     ]
    }
   ],
   "source": [
    "# Subset the station locs df to get those wh\n",
    "mask = station_locs_df.station_code.isin(in_locs_not_in_codes)\n",
    "not_in_codes_df = station_locs_df[mask]\n",
    "not_in_codes_df.dropna(inplace=True, how=\"any\")"
   ]
  },
  {
   "cell_type": "code",
   "execution_count": 13,
   "metadata": {},
   "outputs": [],
   "source": [
    "# Subset the station codes df to get those which are not in the locations data\n",
    "mask = station_code_df.station_code.isin(in_codes_not_in_locs)\n",
    "not_in_loc_df = station_code_df[mask]\n",
    "not_in_loc_df.dropna(inplace=True, how=\"any\")"
   ]
  },
  {
   "cell_type": "code",
   "execution_count": 14,
   "metadata": {},
   "outputs": [
    {
     "data": {
      "text/html": [
       "<div>\n",
       "<style scoped>\n",
       "    .dataframe tbody tr th:only-of-type {\n",
       "        vertical-align: middle;\n",
       "    }\n",
       "\n",
       "    .dataframe tbody tr th {\n",
       "        vertical-align: top;\n",
       "    }\n",
       "\n",
       "    .dataframe thead th {\n",
       "        text-align: right;\n",
       "    }\n",
       "</style>\n",
       "<table border=\"1\" class=\"dataframe\">\n",
       "  <thead>\n",
       "    <tr style=\"text-align: right;\">\n",
       "      <th></th>\n",
       "      <th>station_name</th>\n",
       "      <th>station_code</th>\n",
       "    </tr>\n",
       "  </thead>\n",
       "  <tbody>\n",
       "    <tr>\n",
       "      <th>98</th>\n",
       "      <td>Ashford International (Eurostar)</td>\n",
       "      <td>ASI</td>\n",
       "    </tr>\n",
       "    <tr>\n",
       "      <th>145</th>\n",
       "      <td>Barbican</td>\n",
       "      <td>ZBB</td>\n",
       "    </tr>\n",
       "    <tr>\n",
       "      <th>579</th>\n",
       "      <td>Corfe Castle</td>\n",
       "      <td>CFC</td>\n",
       "    </tr>\n",
       "    <tr>\n",
       "      <th>728</th>\n",
       "      <td>Dublin Ferryport</td>\n",
       "      <td>DFP</td>\n",
       "    </tr>\n",
       "    <tr>\n",
       "      <th>729</th>\n",
       "      <td>Dublin Port - Stena</td>\n",
       "      <td>DPS</td>\n",
       "    </tr>\n",
       "    <tr>\n",
       "      <th>800</th>\n",
       "      <td>Elephant &amp; Castle (Underground)</td>\n",
       "      <td>ZEL</td>\n",
       "    </tr>\n",
       "    <tr>\n",
       "      <th>1110</th>\n",
       "      <td>Heathrow Airport Terminals 1, 2 and 3</td>\n",
       "      <td>HXX</td>\n",
       "    </tr>\n",
       "    <tr>\n",
       "      <th>1143</th>\n",
       "      <td>High Street Kensington Underground</td>\n",
       "      <td>ZHS</td>\n",
       "    </tr>\n",
       "    <tr>\n",
       "      <th>1179</th>\n",
       "      <td>Horden</td>\n",
       "      <td>HRE</td>\n",
       "    </tr>\n",
       "    <tr>\n",
       "      <th>1458</th>\n",
       "      <td>London St Pancras (Intl)</td>\n",
       "      <td>SPX</td>\n",
       "    </tr>\n",
       "    <tr>\n",
       "      <th>1500</th>\n",
       "      <td>Maghull North</td>\n",
       "      <td>MNS</td>\n",
       "    </tr>\n",
       "    <tr>\n",
       "      <th>1557</th>\n",
       "      <td>Meridian Water</td>\n",
       "      <td>MRW</td>\n",
       "    </tr>\n",
       "    <tr>\n",
       "      <th>1945</th>\n",
       "      <td>Oxford Parkway</td>\n",
       "      <td>OXP</td>\n",
       "    </tr>\n",
       "    <tr>\n",
       "      <th>1994</th>\n",
       "      <td>Penychain</td>\n",
       "      <td>PNC</td>\n",
       "    </tr>\n",
       "    <tr>\n",
       "      <th>2133</th>\n",
       "      <td>Robroyston</td>\n",
       "      <td>RRN</td>\n",
       "    </tr>\n",
       "    <tr>\n",
       "      <th>3169</th>\n",
       "      <td>Warrington West</td>\n",
       "      <td>WAW</td>\n",
       "    </tr>\n",
       "    <tr>\n",
       "      <th>3248</th>\n",
       "      <td>Whitechapel</td>\n",
       "      <td>ZLW</td>\n",
       "    </tr>\n",
       "    <tr>\n",
       "      <th>3320</th>\n",
       "      <td>Worcestershire Parkway</td>\n",
       "      <td>WOP</td>\n",
       "    </tr>\n",
       "  </tbody>\n",
       "</table>\n",
       "</div>"
      ],
      "text/plain": [
       "                               station_name station_code\n",
       "98         Ashford International (Eurostar)          ASI\n",
       "145                                Barbican          ZBB\n",
       "579                            Corfe Castle          CFC\n",
       "728                        Dublin Ferryport          DFP\n",
       "729                     Dublin Port - Stena          DPS\n",
       "800         Elephant & Castle (Underground)          ZEL\n",
       "1110  Heathrow Airport Terminals 1, 2 and 3          HXX\n",
       "1143     High Street Kensington Underground          ZHS\n",
       "1179                                 Horden          HRE\n",
       "1458               London St Pancras (Intl)          SPX\n",
       "1500                          Maghull North          MNS\n",
       "1557                         Meridian Water          MRW\n",
       "1945                         Oxford Parkway          OXP\n",
       "1994                              Penychain          PNC\n",
       "2133                             Robroyston          RRN\n",
       "3169                        Warrington West          WAW\n",
       "3248                            Whitechapel          ZLW\n",
       "3320                 Worcestershire Parkway          WOP"
      ]
     },
     "execution_count": 14,
     "metadata": {},
     "output_type": "execute_result"
    }
   ],
   "source": [
    "not_in_loc_df"
   ]
  },
  {
   "cell_type": "code",
   "execution_count": 15,
   "metadata": {},
   "outputs": [
    {
     "data": {
      "text/html": [
       "<div>\n",
       "<style scoped>\n",
       "    .dataframe tbody tr th:only-of-type {\n",
       "        vertical-align: middle;\n",
       "    }\n",
       "\n",
       "    .dataframe tbody tr th {\n",
       "        vertical-align: top;\n",
       "    }\n",
       "\n",
       "    .dataframe thead th {\n",
       "        text-align: right;\n",
       "    }\n",
       "</style>\n",
       "<table border=\"1\" class=\"dataframe\">\n",
       "  <thead>\n",
       "    <tr style=\"text-align: right;\">\n",
       "      <th></th>\n",
       "      <th>station_code</th>\n",
       "      <th>station_name</th>\n",
       "      <th>latitude</th>\n",
       "      <th>longitude</th>\n",
       "    </tr>\n",
       "  </thead>\n",
       "  <tbody>\n",
       "    <tr>\n",
       "      <th>33</th>\n",
       "      <td>AGR</td>\n",
       "      <td>Angel Road Rail Station</td>\n",
       "      <td>51.612405</td>\n",
       "      <td>-0.048766</td>\n",
       "    </tr>\n",
       "    <tr>\n",
       "      <th>77</th>\n",
       "      <td>APN</td>\n",
       "      <td>Newcastle Airport Metro</td>\n",
       "      <td>55.035954</td>\n",
       "      <td>-1.711061</td>\n",
       "    </tr>\n",
       "    <tr>\n",
       "      <th>222</th>\n",
       "      <td>BIB</td>\n",
       "      <td>Bishop's Lydeard</td>\n",
       "      <td>51.054580</td>\n",
       "      <td>-3.194340</td>\n",
       "    </tr>\n",
       "    <tr>\n",
       "      <th>296</th>\n",
       "      <td>BNR</td>\n",
       "      <td>Brockley Whins Rail Station</td>\n",
       "      <td>54.959550</td>\n",
       "      <td>-1.461367</td>\n",
       "    </tr>\n",
       "    <tr>\n",
       "      <th>314</th>\n",
       "      <td>BPC</td>\n",
       "      <td>Penychain Rail Station</td>\n",
       "      <td>52.902898</td>\n",
       "      <td>-4.338730</td>\n",
       "    </tr>\n",
       "    <tr>\n",
       "      <th>767</th>\n",
       "      <td>EBL</td>\n",
       "      <td>East Boldon Rail Station</td>\n",
       "      <td>54.946421</td>\n",
       "      <td>-1.420328</td>\n",
       "    </tr>\n",
       "    <tr>\n",
       "      <th>902</th>\n",
       "      <td>FRR</td>\n",
       "      <td>Frosterley Rail Station</td>\n",
       "      <td>54.727001</td>\n",
       "      <td>-1.964421</td>\n",
       "    </tr>\n",
       "    <tr>\n",
       "      <th>928</th>\n",
       "      <td>GCL</td>\n",
       "      <td>Glasgow Central Low Level Rail Station</td>\n",
       "      <td>55.858674</td>\n",
       "      <td>-4.258477</td>\n",
       "    </tr>\n",
       "    <tr>\n",
       "      <th>988</th>\n",
       "      <td>GQL</td>\n",
       "      <td>Glasgow Queen Street Low Level Rail Station</td>\n",
       "      <td>55.862340</td>\n",
       "      <td>-4.250636</td>\n",
       "    </tr>\n",
       "    <tr>\n",
       "      <th>1091</th>\n",
       "      <td>HII</td>\n",
       "      <td>Highbury &amp; Islington Rail Station</td>\n",
       "      <td>51.546088</td>\n",
       "      <td>-0.103741</td>\n",
       "    </tr>\n",
       "    <tr>\n",
       "      <th>1187</th>\n",
       "      <td>HTR</td>\n",
       "      <td>Heathrow Airport Central Bus Stn (Rail-Air)</td>\n",
       "      <td>51.471094</td>\n",
       "      <td>-0.453286</td>\n",
       "    </tr>\n",
       "    <tr>\n",
       "      <th>1203</th>\n",
       "      <td>HWF</td>\n",
       "      <td>Heathrow Terminal 4 (Rail-Air)</td>\n",
       "      <td>51.459329</td>\n",
       "      <td>-0.446947</td>\n",
       "    </tr>\n",
       "    <tr>\n",
       "      <th>1210</th>\n",
       "      <td>HWX</td>\n",
       "      <td>Heathrow Airport Terminal 5</td>\n",
       "      <td>51.471250</td>\n",
       "      <td>-0.489350</td>\n",
       "    </tr>\n",
       "    <tr>\n",
       "      <th>1398</th>\n",
       "      <td>LHR</td>\n",
       "      <td>Heathrow Terminals 1-3 Rail Station</td>\n",
       "      <td>51.471405</td>\n",
       "      <td>-0.454313</td>\n",
       "    </tr>\n",
       "    <tr>\n",
       "      <th>1403</th>\n",
       "      <td>LIF</td>\n",
       "      <td>Lichfield Trent Valley High Level Rail Station</td>\n",
       "      <td>52.686909</td>\n",
       "      <td>-1.800237</td>\n",
       "    </tr>\n",
       "    <tr>\n",
       "      <th>1478</th>\n",
       "      <td>LVL</td>\n",
       "      <td>Liverpool Lime Street Low Level Rail Station</td>\n",
       "      <td>53.408222</td>\n",
       "      <td>-2.977747</td>\n",
       "    </tr>\n",
       "    <tr>\n",
       "      <th>1534</th>\n",
       "      <td>MFD</td>\n",
       "      <td>Minffordd Ffestiniog Railway Station</td>\n",
       "      <td>52.925889</td>\n",
       "      <td>-4.084216</td>\n",
       "    </tr>\n",
       "    <tr>\n",
       "      <th>1690</th>\n",
       "      <td>NTB</td>\n",
       "      <td>Norton Bridge Rail Station</td>\n",
       "      <td>52.866713</td>\n",
       "      <td>-2.190542</td>\n",
       "    </tr>\n",
       "    <tr>\n",
       "      <th>1728</th>\n",
       "      <td>OPY</td>\n",
       "      <td>Oxford Parkway Rail Station</td>\n",
       "      <td>51.804076</td>\n",
       "      <td>-1.274468</td>\n",
       "    </tr>\n",
       "    <tr>\n",
       "      <th>1795</th>\n",
       "      <td>PMG</td>\n",
       "      <td>Porthmadog Harbour Ffestiniog Railway Station</td>\n",
       "      <td>52.924054</td>\n",
       "      <td>-4.126825</td>\n",
       "    </tr>\n",
       "    <tr>\n",
       "      <th>1887</th>\n",
       "      <td>RBU</td>\n",
       "      <td>Reading Rail Station</td>\n",
       "      <td>51.458146</td>\n",
       "      <td>-0.971641</td>\n",
       "    </tr>\n",
       "    <tr>\n",
       "      <th>1909</th>\n",
       "      <td>REL</td>\n",
       "      <td>Retford Low Level Rail Station</td>\n",
       "      <td>53.314085</td>\n",
       "      <td>-0.944773</td>\n",
       "    </tr>\n",
       "    <tr>\n",
       "      <th>2027</th>\n",
       "      <td>SEB</td>\n",
       "      <td>Seaburn Rail Station</td>\n",
       "      <td>54.929542</td>\n",
       "      <td>-1.386707</td>\n",
       "    </tr>\n",
       "    <tr>\n",
       "      <th>2070</th>\n",
       "      <td>SHV</td>\n",
       "      <td>Southsea Hoverport</td>\n",
       "      <td>50.785316</td>\n",
       "      <td>-1.099977</td>\n",
       "    </tr>\n",
       "    <tr>\n",
       "      <th>2130</th>\n",
       "      <td>SNP</td>\n",
       "      <td>Stanhope Rail Station</td>\n",
       "      <td>54.743317</td>\n",
       "      <td>-2.003270</td>\n",
       "    </tr>\n",
       "    <tr>\n",
       "      <th>2161</th>\n",
       "      <td>SPL</td>\n",
       "      <td>London St Pancras International LL Rail Station</td>\n",
       "      <td>51.532168</td>\n",
       "      <td>-0.127317</td>\n",
       "    </tr>\n",
       "    <tr>\n",
       "      <th>2207</th>\n",
       "      <td>STQ</td>\n",
       "      <td>Southampton Town Quay</td>\n",
       "      <td>50.895142</td>\n",
       "      <td>-1.405822</td>\n",
       "    </tr>\n",
       "    <tr>\n",
       "      <th>2215</th>\n",
       "      <td>STZ</td>\n",
       "      <td>St Peters Rail Station</td>\n",
       "      <td>54.911447</td>\n",
       "      <td>-1.383816</td>\n",
       "    </tr>\n",
       "    <tr>\n",
       "      <th>2259</th>\n",
       "      <td>TAH</td>\n",
       "      <td>Tamworth High Level Rail Station</td>\n",
       "      <td>52.637490</td>\n",
       "      <td>-1.686443</td>\n",
       "    </tr>\n",
       "    <tr>\n",
       "      <th>2345</th>\n",
       "      <td>TYB</td>\n",
       "      <td>Tan-y-Bwlch Ffestiniog Railway Station</td>\n",
       "      <td>52.954385</td>\n",
       "      <td>-4.011522</td>\n",
       "    </tr>\n",
       "    <tr>\n",
       "      <th>2470</th>\n",
       "      <td>WLH</td>\n",
       "      <td>Wolsingham Rail Station</td>\n",
       "      <td>54.726322</td>\n",
       "      <td>-1.883528</td>\n",
       "    </tr>\n",
       "    <tr>\n",
       "      <th>2590</th>\n",
       "      <td>ZBU</td>\n",
       "      <td>Southease - Piddinghoe Road</td>\n",
       "      <td>50.829619</td>\n",
       "      <td>0.017846</td>\n",
       "    </tr>\n",
       "    <tr>\n",
       "      <th>2593</th>\n",
       "      <td>ZWL</td>\n",
       "      <td>Whitechapel Rail Station</td>\n",
       "      <td>51.519469</td>\n",
       "      <td>-0.059731</td>\n",
       "    </tr>\n",
       "    <tr>\n",
       "      <th>2594</th>\n",
       "      <td>ZZT</td>\n",
       "      <td>Lintley Rail Station</td>\n",
       "      <td>54.853558</td>\n",
       "      <td>-2.488317</td>\n",
       "    </tr>\n",
       "  </tbody>\n",
       "</table>\n",
       "</div>"
      ],
      "text/plain": [
       "     station_code                                     station_name   latitude  \\\n",
       "33            AGR                          Angel Road Rail Station  51.612405   \n",
       "77            APN                          Newcastle Airport Metro  55.035954   \n",
       "222           BIB                                 Bishop's Lydeard  51.054580   \n",
       "296           BNR                      Brockley Whins Rail Station  54.959550   \n",
       "314           BPC                           Penychain Rail Station  52.902898   \n",
       "767           EBL                         East Boldon Rail Station  54.946421   \n",
       "902           FRR                          Frosterley Rail Station  54.727001   \n",
       "928           GCL           Glasgow Central Low Level Rail Station  55.858674   \n",
       "988           GQL      Glasgow Queen Street Low Level Rail Station  55.862340   \n",
       "1091          HII                Highbury & Islington Rail Station  51.546088   \n",
       "1187          HTR      Heathrow Airport Central Bus Stn (Rail-Air)  51.471094   \n",
       "1203          HWF                   Heathrow Terminal 4 (Rail-Air)  51.459329   \n",
       "1210          HWX                      Heathrow Airport Terminal 5  51.471250   \n",
       "1398          LHR              Heathrow Terminals 1-3 Rail Station  51.471405   \n",
       "1403          LIF   Lichfield Trent Valley High Level Rail Station  52.686909   \n",
       "1478          LVL     Liverpool Lime Street Low Level Rail Station  53.408222   \n",
       "1534          MFD             Minffordd Ffestiniog Railway Station  52.925889   \n",
       "1690          NTB                       Norton Bridge Rail Station  52.866713   \n",
       "1728          OPY                      Oxford Parkway Rail Station  51.804076   \n",
       "1795          PMG    Porthmadog Harbour Ffestiniog Railway Station  52.924054   \n",
       "1887          RBU                             Reading Rail Station  51.458146   \n",
       "1909          REL                   Retford Low Level Rail Station  53.314085   \n",
       "2027          SEB                             Seaburn Rail Station  54.929542   \n",
       "2070          SHV                               Southsea Hoverport  50.785316   \n",
       "2130          SNP                            Stanhope Rail Station  54.743317   \n",
       "2161          SPL  London St Pancras International LL Rail Station  51.532168   \n",
       "2207          STQ                            Southampton Town Quay  50.895142   \n",
       "2215          STZ                           St Peters Rail Station  54.911447   \n",
       "2259          TAH                 Tamworth High Level Rail Station  52.637490   \n",
       "2345          TYB           Tan-y-Bwlch Ffestiniog Railway Station  52.954385   \n",
       "2470          WLH                          Wolsingham Rail Station  54.726322   \n",
       "2590          ZBU                      Southease - Piddinghoe Road  50.829619   \n",
       "2593          ZWL                         Whitechapel Rail Station  51.519469   \n",
       "2594          ZZT                             Lintley Rail Station  54.853558   \n",
       "\n",
       "      longitude  \n",
       "33    -0.048766  \n",
       "77    -1.711061  \n",
       "222   -3.194340  \n",
       "296   -1.461367  \n",
       "314   -4.338730  \n",
       "767   -1.420328  \n",
       "902   -1.964421  \n",
       "928   -4.258477  \n",
       "988   -4.250636  \n",
       "1091  -0.103741  \n",
       "1187  -0.453286  \n",
       "1203  -0.446947  \n",
       "1210  -0.489350  \n",
       "1398  -0.454313  \n",
       "1403  -1.800237  \n",
       "1478  -2.977747  \n",
       "1534  -4.084216  \n",
       "1690  -2.190542  \n",
       "1728  -1.274468  \n",
       "1795  -4.126825  \n",
       "1887  -0.971641  \n",
       "1909  -0.944773  \n",
       "2027  -1.386707  \n",
       "2070  -1.099977  \n",
       "2130  -2.003270  \n",
       "2161  -0.127317  \n",
       "2207  -1.405822  \n",
       "2215  -1.383816  \n",
       "2259  -1.686443  \n",
       "2345  -4.011522  \n",
       "2470  -1.883528  \n",
       "2590   0.017846  \n",
       "2593  -0.059731  \n",
       "2594  -2.488317  "
      ]
     },
     "execution_count": 15,
     "metadata": {},
     "output_type": "execute_result"
    }
   ],
   "source": [
    "not_in_codes_df\n"
   ]
  },
  {
   "cell_type": "code",
   "execution_count": 16,
   "metadata": {},
   "outputs": [],
   "source": [
    "not_in_codes_df.to_csv(\"locations_not_in_codes.csv\")\n"
   ]
  },
  {
   "cell_type": "code",
   "execution_count": 17,
   "metadata": {},
   "outputs": [],
   "source": [
    "not_in_loc_df.to_csv(\"stations_not_in_locations.csv\")"
   ]
  },
  {
   "cell_type": "code",
   "execution_count": 22,
   "metadata": {},
   "outputs": [
    {
     "data": {
      "text/plain": [
       "False"
      ]
     },
     "execution_count": 22,
     "metadata": {},
     "output_type": "execute_result"
    }
   ],
   "source": [
    "station_code_df.station_code.str.contains(\"AGR\").any()"
   ]
  },
  {
   "cell_type": "code",
   "execution_count": 28,
   "metadata": {},
   "outputs": [
    {
     "data": {
      "text/html": [
       "<div>\n",
       "<style scoped>\n",
       "    .dataframe tbody tr th:only-of-type {\n",
       "        vertical-align: middle;\n",
       "    }\n",
       "\n",
       "    .dataframe tbody tr th {\n",
       "        vertical-align: top;\n",
       "    }\n",
       "\n",
       "    .dataframe thead th {\n",
       "        text-align: right;\n",
       "    }\n",
       "</style>\n",
       "<table border=\"1\" class=\"dataframe\">\n",
       "  <thead>\n",
       "    <tr style=\"text-align: right;\">\n",
       "      <th></th>\n",
       "      <th>station_name</th>\n",
       "      <th>station_code</th>\n",
       "    </tr>\n",
       "  </thead>\n",
       "  <tbody>\n",
       "    <tr>\n",
       "      <th>484</th>\n",
       "      <td>Charing Cross (Glasgow)</td>\n",
       "      <td>CHC</td>\n",
       "    </tr>\n",
       "    <tr>\n",
       "      <th>835</th>\n",
       "      <td>Exhibition Centre (Glasgow)</td>\n",
       "      <td>EXG</td>\n",
       "    </tr>\n",
       "    <tr>\n",
       "      <th>947</th>\n",
       "      <td>Glasgow Central</td>\n",
       "      <td>GLC</td>\n",
       "    </tr>\n",
       "    <tr>\n",
       "      <th>948</th>\n",
       "      <td>Glasgow Queen Street</td>\n",
       "      <td>GLQ</td>\n",
       "    </tr>\n",
       "    <tr>\n",
       "      <th>1142</th>\n",
       "      <td>High Street (Glasgow)</td>\n",
       "      <td>HST</td>\n",
       "    </tr>\n",
       "    <tr>\n",
       "      <th>2039</th>\n",
       "      <td>Port Glasgow</td>\n",
       "      <td>PTG</td>\n",
       "    </tr>\n",
       "    <tr>\n",
       "      <th>2077</th>\n",
       "      <td>Queens Park (Glasgow)</td>\n",
       "      <td>QPK</td>\n",
       "    </tr>\n",
       "  </tbody>\n",
       "</table>\n",
       "</div>"
      ],
      "text/plain": [
       "                     station_name station_code\n",
       "484       Charing Cross (Glasgow)          CHC\n",
       "835   Exhibition Centre (Glasgow)          EXG\n",
       "947               Glasgow Central          GLC\n",
       "948          Glasgow Queen Street          GLQ\n",
       "1142        High Street (Glasgow)          HST\n",
       "2039                 Port Glasgow          PTG\n",
       "2077        Queens Park (Glasgow)          QPK"
      ]
     },
     "execution_count": 28,
     "metadata": {},
     "output_type": "execute_result"
    }
   ],
   "source": [
    "station_code_df.dropna()[station_code_df.station_name.str.contains(\"Glasgow\").dropna()]"
   ]
  },
  {
   "cell_type": "code",
   "execution_count": 71,
   "metadata": {},
   "outputs": [
    {
     "data": {
      "text/html": [
       "<div>\n",
       "<style scoped>\n",
       "    .dataframe tbody tr th:only-of-type {\n",
       "        vertical-align: middle;\n",
       "    }\n",
       "\n",
       "    .dataframe tbody tr th {\n",
       "        vertical-align: top;\n",
       "    }\n",
       "\n",
       "    .dataframe thead th {\n",
       "        text-align: right;\n",
       "    }\n",
       "</style>\n",
       "<table border=\"1\" class=\"dataframe\">\n",
       "  <thead>\n",
       "    <tr style=\"text-align: right;\">\n",
       "      <th></th>\n",
       "      <th>station_code</th>\n",
       "      <th>station_name</th>\n",
       "      <th>latitude</th>\n",
       "      <th>longitude</th>\n",
       "    </tr>\n",
       "  </thead>\n",
       "  <tbody>\n",
       "    <tr>\n",
       "      <th>1027</th>\n",
       "      <td>HAF</td>\n",
       "      <td>Heathrow Terminal 4 Rail Station</td>\n",
       "      <td>51.458266</td>\n",
       "      <td>-0.445443</td>\n",
       "    </tr>\n",
       "    <tr>\n",
       "      <th>1187</th>\n",
       "      <td>HTR</td>\n",
       "      <td>Heathrow Airport Central Bus Stn (Rail-Air)</td>\n",
       "      <td>51.471094</td>\n",
       "      <td>-0.453286</td>\n",
       "    </tr>\n",
       "    <tr>\n",
       "      <th>1203</th>\n",
       "      <td>HWF</td>\n",
       "      <td>Heathrow Terminal 4 (Rail-Air)</td>\n",
       "      <td>51.459329</td>\n",
       "      <td>-0.446947</td>\n",
       "    </tr>\n",
       "    <tr>\n",
       "      <th>1208</th>\n",
       "      <td>HWV</td>\n",
       "      <td>Heathrow Terminal 5 Rail Station</td>\n",
       "      <td>51.470052</td>\n",
       "      <td>-0.490570</td>\n",
       "    </tr>\n",
       "    <tr>\n",
       "      <th>1210</th>\n",
       "      <td>HWX</td>\n",
       "      <td>Heathrow Airport Terminal 5</td>\n",
       "      <td>51.471250</td>\n",
       "      <td>-0.489350</td>\n",
       "    </tr>\n",
       "    <tr>\n",
       "      <th>1398</th>\n",
       "      <td>LHR</td>\n",
       "      <td>Heathrow Terminals 1-3 Rail Station</td>\n",
       "      <td>51.471405</td>\n",
       "      <td>-0.454313</td>\n",
       "    </tr>\n",
       "  </tbody>\n",
       "</table>\n",
       "</div>"
      ],
      "text/plain": [
       "     station_code                                 station_name   latitude  \\\n",
       "1027          HAF             Heathrow Terminal 4 Rail Station  51.458266   \n",
       "1187          HTR  Heathrow Airport Central Bus Stn (Rail-Air)  51.471094   \n",
       "1203          HWF               Heathrow Terminal 4 (Rail-Air)  51.459329   \n",
       "1208          HWV             Heathrow Terminal 5 Rail Station  51.470052   \n",
       "1210          HWX                  Heathrow Airport Terminal 5  51.471250   \n",
       "1398          LHR          Heathrow Terminals 1-3 Rail Station  51.471405   \n",
       "\n",
       "      longitude  \n",
       "1027  -0.445443  \n",
       "1187  -0.453286  \n",
       "1203  -0.446947  \n",
       "1208  -0.490570  \n",
       "1210  -0.489350  \n",
       "1398  -0.454313  "
      ]
     },
     "execution_count": 71,
     "metadata": {},
     "output_type": "execute_result"
    }
   ],
   "source": [
    "station_locs_df.dropna()[station_locs_df.station_name.str.contains(\"Heathrow\").dropna()]"
   ]
  },
  {
   "cell_type": "code",
   "execution_count": 69,
   "metadata": {},
   "outputs": [
    {
     "name": "stderr",
     "output_type": "stream",
     "text": [
      "/tmp/ipykernel_901235/1628482207.py:1: UserWarning: Boolean Series key will be reindexed to match DataFrame index.\n",
      "  station_code_df.dropna()[station_code_df.station_code.isin([\"SPL\"]).dropna()]\n"
     ]
    },
    {
     "data": {
      "text/html": [
       "<div>\n",
       "<style scoped>\n",
       "    .dataframe tbody tr th:only-of-type {\n",
       "        vertical-align: middle;\n",
       "    }\n",
       "\n",
       "    .dataframe tbody tr th {\n",
       "        vertical-align: top;\n",
       "    }\n",
       "\n",
       "    .dataframe thead th {\n",
       "        text-align: right;\n",
       "    }\n",
       "</style>\n",
       "<table border=\"1\" class=\"dataframe\">\n",
       "  <thead>\n",
       "    <tr style=\"text-align: right;\">\n",
       "      <th></th>\n",
       "      <th>station_name</th>\n",
       "      <th>station_code</th>\n",
       "    </tr>\n",
       "  </thead>\n",
       "  <tbody>\n",
       "  </tbody>\n",
       "</table>\n",
       "</div>"
      ],
      "text/plain": [
       "Empty DataFrame\n",
       "Columns: [station_name, station_code]\n",
       "Index: []"
      ]
     },
     "execution_count": 69,
     "metadata": {},
     "output_type": "execute_result"
    }
   ],
   "source": [
    "station_code_df.dropna()[station_code_df.station_code.isin([\"SPL\"]).dropna()]\n",
    "\n"
   ]
  },
  {
   "cell_type": "code",
   "execution_count": 78,
   "metadata": {},
   "outputs": [],
   "source": [
    "corrections_to_codes = pd.read_csv(\"corrections_stations_not_in_locs.csv\")"
   ]
  },
  {
   "cell_type": "code",
   "execution_count": 79,
   "metadata": {},
   "outputs": [
    {
     "data": {
      "text/plain": [
       "array(['delete from codes', 'Ferry', 'replace in locs', 'added to locs',\n",
       "       'changed code in locs', 'code changed in locs', 'added from locs'],\n",
       "      dtype=object)"
      ]
     },
     "execution_count": 79,
     "metadata": {},
     "output_type": "execute_result"
    }
   ],
   "source": [
    "corrections_to_codes.notes.unique()"
   ]
  },
  {
   "cell_type": "code",
   "execution_count": 80,
   "metadata": {},
   "outputs": [],
   "source": [
    "corrections_to_locs = pd.read_csv(\"corrections_locations_not_in_codes.csv\")"
   ]
  },
  {
   "cell_type": "code",
   "execution_count": 82,
   "metadata": {},
   "outputs": [
    {
     "data": {
      "text/plain": [
       "array(['delete from locs', 'added to codes', 'changed code',\n",
       "       'added to locs', 'replace in locs'], dtype=object)"
      ]
     },
     "execution_count": 82,
     "metadata": {},
     "output_type": "execute_result"
    }
   ],
   "source": [
    "corrections_to_locs.action.unique()"
   ]
  },
  {
   "cell_type": "code",
   "execution_count": 87,
   "metadata": {},
   "outputs": [],
   "source": [
    "# Delete erroneous stations from locations\n",
    "stations_to_be_deleted = corrections_to_locs.action == 'delete from locs'\n",
    "station_codes_to_be_deleted = corrections_to_locs.station_code[stations_to_be_deleted]\n"
   ]
  },
  {
   "cell_type": "code",
   "execution_count": 95,
   "metadata": {},
   "outputs": [],
   "source": [
    "# Get index of records to be deleted in station locations\n",
    "locs_to_delete = station_locs_df.where(station_locs_df.station_code.isin(station_codes_to_be_deleted))\n",
    "locs_to_delete.dropna(inplace=True)\n",
    "index_to_delete = locs_to_delete.index"
   ]
  },
  {
   "cell_type": "code",
   "execution_count": 97,
   "metadata": {},
   "outputs": [],
   "source": [
    "# delete those records\n",
    "station_locs_df.drop(index_to_delete, inplace=True)"
   ]
  },
  {
   "cell_type": "code",
   "execution_count": null,
   "metadata": {},
   "outputs": [],
   "source": []
  }
 ],
 "metadata": {
  "kernelspec": {
   "display_name": "Python 3.8.6 ('SDG_11.2.1')",
   "language": "python",
   "name": "python3"
  },
  "language_info": {
   "codemirror_mode": {
    "name": "ipython",
    "version": 3
   },
   "file_extension": ".py",
   "mimetype": "text/x-python",
   "name": "python",
   "nbconvert_exporter": "python",
   "pygments_lexer": "ipython3",
   "version": "3.8.6"
  },
  "orig_nbformat": 4,
  "vscode": {
   "interpreter": {
    "hash": "544c5d4892f5940a5534828eff3f5c64fae618020b47782c37c1b14adb56a864"
   }
  }
 },
 "nbformat": 4,
 "nbformat_minor": 2
}
